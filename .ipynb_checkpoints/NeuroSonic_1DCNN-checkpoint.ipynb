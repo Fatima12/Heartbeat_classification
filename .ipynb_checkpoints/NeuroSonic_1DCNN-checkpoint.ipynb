{
 "cells": [
  {
   "cell_type": "code",
   "execution_count": 1,
   "id": "bc04066d-7016-49a7-a948-da9a3afa96d8",
   "metadata": {},
   "outputs": [],
   "source": [
    "import torch\n",
    "import os\n",
    "import random\n",
    "from time import time\n",
    "import matplotlib\n",
    "import matplotlib.pyplot as plt\n",
    "import numpy as np\n",
    "import pandas as pd\n",
    "import librosa\n",
    "import librosa.display\n",
    "import scipy.stats\n",
    "from scipy.signal import firwin, lfilter, filtfilt\n",
    "from glob import glob\n",
    "import pywt\n",
    "import seaborn as sns\n",
    "\n",
    "from sklearn.model_selection import train_test_split, cross_val_score, StratifiedKFold\n",
    "from sklearn.preprocessing import StandardScaler, LabelEncoder\n",
    "from sklearn.pipeline import make_pipeline\n",
    "from sklearn.metrics import make_scorer, f1_score, roc_auc_score, classification_report, confusion_matrix\n",
    "\n",
    "import warnings\n",
    "warnings.filterwarnings('ignore')\n",
    "\n",
    "from torch import nn\n",
    "from PIL import Image\n",
    "from torchvision import transforms\n",
    "import torch.nn as nn\n",
    "import torch.nn.functional as F\n",
    "from torch.utils.data import Dataset, DataLoader, random_split, Subset\n",
    "from torch.nn.utils.rnn import pad_sequence\n",
    "\n",
    "device = torch.device(\"cuda\" if torch.cuda.is_available() else \"cpu\")\n",
    "sample_rate = 44100\n",
    "downsample_factor = 10\n"
   ]
  },
  {
   "cell_type": "code",
   "execution_count": 20,
   "id": "22eef153",
   "metadata": {},
   "outputs": [],
   "source": [
    "seed =  68\n",
    "random.seed(seed)\n",
    "np.random.seed(seed)\n",
    "torch.manual_seed(seed)\n",
    "torch.cuda.manual_seed(seed)\n",
    "torch.cuda.manual_seed_all(seed)\n",
    "\n",
    "# Ensure deterministic behavior\n",
    "torch.backends.cudnn.deterministic = True\n",
    "torch.backends.cudnn.benchmark = False"
   ]
  },
  {
   "cell_type": "code",
   "execution_count": 3,
   "id": "8feb6540-a826-489d-ae16-92d51528c455",
   "metadata": {},
   "outputs": [],
   "source": [
    "# define data directory\n",
    "base_dir = os.getcwd()\n",
    "data_dir = os.path.join(base_dir, 'Data')\n"
   ]
  },
  {
   "cell_type": "code",
   "execution_count": 4,
   "id": "731d558f-c9a4-45f2-b805-577d64663e9a",
   "metadata": {},
   "outputs": [],
   "source": [
    "# load all files \n",
    "def load_category_data(category_path, label):\n",
    "    files = glob(os.path.join(category_path, '*.wav'))\n",
    "    data = []\n",
    "    \n",
    "    for file_path in files:\n",
    "        y, sr = librosa.load(file_path, sr = None)\n",
    "        data.append({\n",
    "            'filename': os.path.basename(file_path),\n",
    "            'waveform': y,\n",
    "            'sample_rate': sr,\n",
    "            'label': label,\n",
    "            'length': len(y)\n",
    "        })\n",
    "    \n",
    "    return pd.DataFrame(data)\n",
    "\n",
    "#  create separate dataframes\n",
    "artifact_df = load_category_data(os.path.join(data_dir, 'artifact'), 'artifact')\n",
    "murmur_df = load_category_data(os.path.join(data_dir, 'murmur'), 'murmur')\n",
    "normal_df = load_category_data(os.path.join(data_dir, 'normal'), 'normal')\n",
    "\n",
    "df = pd.concat([artifact_df, murmur_df, normal_df], ignore_index = True)"
   ]
  },
  {
   "cell_type": "code",
   "execution_count": 5,
   "id": "14b5e46c-7c50-4120-88e9-3440bc205fee",
   "metadata": {},
   "outputs": [
    {
     "name": "stdout",
     "output_type": "stream",
     "text": [
      "           filename                                           waveform  \\\n",
      "0  201106101955.wav  [-0.10809326, -0.0864563, -0.07608032, -0.0711...   \n",
      "1  201106211041.wav  [0.0, -3.0517578e-05, 6.1035156e-05, -6.103515...   \n",
      "2  201106190520.wav  [-0.0027770996, -0.002166748, -0.0024719238, -...   \n",
      "3  201106040933.wav  [-0.00015258789, -0.00015258789, 6.1035156e-05...   \n",
      "4  201105051017.wav  [-0.0025939941, -0.0060424805, -0.0065307617, ...   \n",
      "\n",
      "   sample_rate     label  length  \n",
      "0        44100  artifact  396900  \n",
      "1        44100  artifact  396900  \n",
      "2        44100  artifact  396900  \n",
      "3        44100  artifact  396900  \n",
      "4        44100  artifact  396900  \n"
     ]
    }
   ],
   "source": [
    "print(df.head())"
   ]
  },
  {
   "cell_type": "code",
   "execution_count": 6,
   "id": "a9b19a37-523d-46ab-b8cd-0dddc4ecfd52",
   "metadata": {},
   "outputs": [
    {
     "data": {
      "text/html": [
       "<div>\n",
       "<style scoped>\n",
       "    .dataframe tbody tr th:only-of-type {\n",
       "        vertical-align: middle;\n",
       "    }\n",
       "\n",
       "    .dataframe tbody tr th {\n",
       "        vertical-align: top;\n",
       "    }\n",
       "\n",
       "    .dataframe thead th {\n",
       "        text-align: right;\n",
       "    }\n",
       "</style>\n",
       "<table border=\"1\" class=\"dataframe\">\n",
       "  <thead>\n",
       "    <tr style=\"text-align: right;\">\n",
       "      <th></th>\n",
       "      <th>filename</th>\n",
       "      <th>waveform</th>\n",
       "      <th>sample_rate</th>\n",
       "      <th>label</th>\n",
       "      <th>length</th>\n",
       "      <th>waveform_ds</th>\n",
       "      <th>waveform_ds_length</th>\n",
       "    </tr>\n",
       "  </thead>\n",
       "  <tbody>\n",
       "    <tr>\n",
       "      <th>0</th>\n",
       "      <td>201106101955.wav</td>\n",
       "      <td>[-0.10809326, -0.0864563, -0.07608032, -0.0711...</td>\n",
       "      <td>44100</td>\n",
       "      <td>artifact</td>\n",
       "      <td>396900</td>\n",
       "      <td>[-0.10809326171875003, 0.013211934616680542, 0...</td>\n",
       "      <td>39690</td>\n",
       "    </tr>\n",
       "    <tr>\n",
       "      <th>1</th>\n",
       "      <td>201106211041.wav</td>\n",
       "      <td>[0.0, -3.0517578e-05, 6.1035156e-05, -6.103515...</td>\n",
       "      <td>44100</td>\n",
       "      <td>artifact</td>\n",
       "      <td>396900</td>\n",
       "      <td>[-1.1742749950779062e-21, -9.756491294445977e-...</td>\n",
       "      <td>39690</td>\n",
       "    </tr>\n",
       "    <tr>\n",
       "      <th>2</th>\n",
       "      <td>201106190520.wav</td>\n",
       "      <td>[-0.0027770996, -0.002166748, -0.0024719238, -...</td>\n",
       "      <td>44100</td>\n",
       "      <td>artifact</td>\n",
       "      <td>396900</td>\n",
       "      <td>[-0.002777099609375001, -0.0011820288185628968...</td>\n",
       "      <td>39690</td>\n",
       "    </tr>\n",
       "    <tr>\n",
       "      <th>3</th>\n",
       "      <td>201106040933.wav</td>\n",
       "      <td>[-0.00015258789, -0.00015258789, 6.1035156e-05...</td>\n",
       "      <td>44100</td>\n",
       "      <td>artifact</td>\n",
       "      <td>396900</td>\n",
       "      <td>[-0.00015258789062500005, 0.000282702496260387...</td>\n",
       "      <td>39690</td>\n",
       "    </tr>\n",
       "    <tr>\n",
       "      <th>4</th>\n",
       "      <td>201105051017.wav</td>\n",
       "      <td>[-0.0025939941, -0.0060424805, -0.0065307617, ...</td>\n",
       "      <td>44100</td>\n",
       "      <td>artifact</td>\n",
       "      <td>396900</td>\n",
       "      <td>[-0.0025939941406250004, -0.000271158633715340...</td>\n",
       "      <td>39690</td>\n",
       "    </tr>\n",
       "  </tbody>\n",
       "</table>\n",
       "</div>"
      ],
      "text/plain": [
       "           filename                                           waveform  \\\n",
       "0  201106101955.wav  [-0.10809326, -0.0864563, -0.07608032, -0.0711...   \n",
       "1  201106211041.wav  [0.0, -3.0517578e-05, 6.1035156e-05, -6.103515...   \n",
       "2  201106190520.wav  [-0.0027770996, -0.002166748, -0.0024719238, -...   \n",
       "3  201106040933.wav  [-0.00015258789, -0.00015258789, 6.1035156e-05...   \n",
       "4  201105051017.wav  [-0.0025939941, -0.0060424805, -0.0065307617, ...   \n",
       "\n",
       "   sample_rate     label  length  \\\n",
       "0        44100  artifact  396900   \n",
       "1        44100  artifact  396900   \n",
       "2        44100  artifact  396900   \n",
       "3        44100  artifact  396900   \n",
       "4        44100  artifact  396900   \n",
       "\n",
       "                                         waveform_ds  waveform_ds_length  \n",
       "0  [-0.10809326171875003, 0.013211934616680542, 0...               39690  \n",
       "1  [-1.1742749950779062e-21, -9.756491294445977e-...               39690  \n",
       "2  [-0.002777099609375001, -0.0011820288185628968...               39690  \n",
       "3  [-0.00015258789062500005, 0.000282702496260387...               39690  \n",
       "4  [-0.0025939941406250004, -0.000271158633715340...               39690  "
      ]
     },
     "execution_count": 6,
     "metadata": {},
     "output_type": "execute_result"
    }
   ],
   "source": [
    "def anti_alias_and_downsample(waveform, orig_sr, factor = 10):\n",
    "    \n",
    " \n",
    "    new_sr = orig_sr // factor\n",
    "    cutoff = 0.8 * (0.5 * new_sr)    #  cutoff at 80% of Nyquist after downsampling\n",
    "    nyquist = 0.5 * orig_sr\n",
    "    norm_cutoff = cutoff / nyquist\n",
    "    fir_coeff = firwin(numtaps=101, cutoff=norm_cutoff)\n",
    "    filtered = filtfilt(fir_coeff, 1.0, waveform)    \n",
    "    downsampled = filtered[::factor]\n",
    "    \n",
    "    return downsampled\n",
    "\n",
    "df['waveform_ds'] = df.apply(lambda row: anti_alias_and_downsample(row['waveform'], row['sample_rate']), axis = 1)\n",
    "df['waveform_ds_length'] = df['waveform_ds'].apply(len)\n",
    "df.head()"
   ]
  },
  {
   "cell_type": "code",
   "execution_count": 7,
   "id": "ffcb5f91-37b0-473a-9550-546be44abe59",
   "metadata": {},
   "outputs": [],
   "source": [
    "# Wavelet transform and denoising (>600 Hz removal) \n",
    "def wavelet_denoise(signal, sr, max_freq = 600):\n",
    "    coeffs = pywt.wavedec(signal, 'db4', level = 5)\n",
    "    freqs = [sr / (2 ** (i + 1)) for i in range(len(coeffs))]\n",
    "    for i, f in enumerate(freqs):\n",
    "        if f > max_freq:\n",
    "            coeffs[i] = np.zeros_like(coeffs[i])\n",
    "    recon = pywt.waverec(coeffs, 'db4')\n",
    "    return recon[:len(signal)]\n",
    "\n",
    "new_sr = int(df['sample_rate'].iloc[0] / downsample_factor)\n",
    "df['wavelet_filtered'] = df['waveform_ds'].apply(lambda x: wavelet_denoise(x, new_sr))\n"
   ]
  },
  {
   "cell_type": "code",
   "execution_count": 8,
   "id": "87475f07-5d20-42ef-b6f3-4eaca481748d",
   "metadata": {},
   "outputs": [],
   "source": [
    "# normalize waveforms \n",
    "df['wavelet_filtered'] = df['wavelet_filtered'].apply(lambda x: (x - np.mean(x)) / (np.std(x) + 1e-6))"
   ]
  },
  {
   "cell_type": "code",
   "execution_count": 9,
   "id": "d16488ed-7117-4469-a74f-8299d14aeefe",
   "metadata": {},
   "outputs": [],
   "source": [
    "# label encoding \n",
    "le = LabelEncoder()\n",
    "df['label_encoded'] = le.fit_transform(df['label'])"
   ]
  },
  {
   "cell_type": "code",
   "execution_count": 10,
   "id": "e81872ac-9933-4d6d-b7c4-b60ecd5430ab",
   "metadata": {},
   "outputs": [],
   "source": [
    "# stratified train-test split \n",
    "X = df['wavelet_filtered'].tolist()\n",
    "y = df['label_encoded'].tolist()\n",
    "X_train, X_test, y_train, y_test = train_test_split(X, y, test_size = 0.2, stratify = y, random_state = seed)\n"
   ]
  },
  {
   "cell_type": "code",
   "execution_count": 11,
   "id": "f6a73c5f-5425-49fc-8cb4-fb402a37e44a",
   "metadata": {},
   "outputs": [],
   "source": [
    "# pyTorch dataset \n",
    "class AudioDataset(Dataset):\n",
    "    def __init__(self, signals, labels):\n",
    "        self.signals = [torch.tensor(x, dtype = torch.float32) for x in signals]\n",
    "        self.labels = torch.tensor(labels, dtype = torch.long)\n",
    "\n",
    "    def __len__(self):\n",
    "        return len(self.signals)\n",
    "\n",
    "    def __getitem__(self, idx):\n",
    "        return self.signals[idx], self.labels[idx] "
   ]
  },
  {
   "cell_type": "code",
   "execution_count": 12,
   "id": "fc787ab9-6c87-4c77-85df-15cd8ecde029",
   "metadata": {},
   "outputs": [],
   "source": [
    "train_dataset = AudioDataset(X_train, y_train)\n",
    "test_dataset = AudioDataset(X_test, y_test)"
   ]
  },
  {
   "cell_type": "code",
   "execution_count": 13,
   "id": "39993f4b-2986-40eb-9af2-7dffe1e53a6d",
   "metadata": {},
   "outputs": [],
   "source": [
    "class CNN1D(nn.Module):\n",
    "    def __init__(self, num_classes=3):\n",
    "        super(CNN1D, self).__init__()\n",
    "        self.conv1 = nn.Conv1d(1, 16, kernel_size = 5, stride = 1, padding = 2)\n",
    "        self.pool = nn.MaxPool1d(2)\n",
    "        self.conv2 = nn.Conv1d(16, 32, kernel_size = 5, stride = 1, padding = 2)\n",
    "        self.global_pool = nn.AdaptiveAvgPool1d(1)  \n",
    "        self.fc1 = nn.Linear(32, 64)\n",
    "        self.fc2 = nn.Linear(64, num_classes)\n",
    "\n",
    "    def forward(self, x):\n",
    "        x = self.pool(F.relu(self.conv1(x)))\n",
    "        x = self.pool(F.relu(self.conv2(x)))\n",
    "        x = self.global_pool(x)\n",
    "        x = x.view(x.size(0), -1)\n",
    "        x = F.relu(self.fc1(x))\n",
    "        return self.fc2(x)\n"
   ]
  },
  {
   "cell_type": "code",
   "execution_count": 14,
   "id": "bbda4009-dd51-4039-bc6e-3b38e24aef3b",
   "metadata": {},
   "outputs": [],
   "source": [
    "def pad_collate(batch):\n",
    "    signals, labels = zip(*batch)\n",
    "    padded_signals = pad_sequence(signals, batch_first=True) \n",
    "    return padded_signals.unsqueeze(1), torch.tensor(labels) \n"
   ]
  },
  {
   "cell_type": "code",
   "execution_count": 15,
   "id": "9129ac79-ce00-4752-9769-a3ff05dc0a9a",
   "metadata": {
    "scrolled": true
   },
   "outputs": [],
   "source": [
    "# # hyper-parameters\n",
    "# n_epochs = 150 \n",
    "# lr = 0.001\n",
    "# n_splits = 5\n",
    "\n",
    "# # training loop\n",
    "# kfold = StratifiedKFold(n_splits = n_splits, shuffle = True, random_state = seed)\n",
    "# for fold, (train_idx, val_idx) in enumerate(kfold.split(X_train, y_train)):\n",
    "#     model = CNN1D().to(device)\n",
    "#     optimizer = torch.optim.Adam(model.parameters(), lr = lr)\n",
    "#     criterion = nn.CrossEntropyLoss()\n",
    "\n",
    "#     train_sub = Subset(train_dataset, train_idx)\n",
    "#     val_sub = Subset(train_dataset, val_idx)\n",
    "#     train_loader = DataLoader(train_sub, batch_size = 16, shuffle = True, collate_fn = pad_collate)\n",
    "#     val_loader = DataLoader(val_sub, batch_size = 16, collate_fn = pad_collate)\n",
    "\n",
    "#     train_losses = []\n",
    "#     val_losses = []\n",
    "\n",
    "#     for epoch in range(n_epochs):\n",
    "#         model.train()\n",
    "#         epoch_train_loss = 0.0\n",
    "#         for xb, yb in train_loader:\n",
    "#             xb, yb = xb.to(device), yb.to(device)\n",
    "#             optimizer.zero_grad()\n",
    "#             out = model(xb)\n",
    "#             loss = criterion(out, yb)\n",
    "#             loss.backward()\n",
    "#             optimizer.step()\n",
    "#             epoch_train_loss += loss.item() * xb.size(0)\n",
    "#         train_losses.append(epoch_train_loss / len(train_loader.dataset))\n",
    "\n",
    "#         # Validation loss\n",
    "#         model.eval()\n",
    "#         epoch_val_loss = 0.0\n",
    "#         with torch.no_grad():\n",
    "#             for xb, yb in val_loader:\n",
    "#                 xb, yb = xb.to(device), yb.to(device)\n",
    "#                 out = model(xb)\n",
    "#                 loss = criterion(out, yb)\n",
    "#                 epoch_val_loss += loss.item() * xb.size(0)\n",
    "#         val_losses.append(epoch_val_loss / len(val_loader.dataset))\n",
    "\n",
    "#         print(f\"Fold {fold+1} | Epoch {epoch+1}/{n_epochs} | Train Loss: {train_losses[-1]:.4f} | Val Loss: {val_losses[-1]:.4f}\")\n",
    "\n",
    "#     # plotting losses for this fold\n",
    "#     plt.figure(figsize=(8, 4))\n",
    "#     plt.plot(range(1, n_epochs + 1), train_losses, label = 'Train Loss')\n",
    "#     plt.plot(range(1, n_epochs + 1), val_losses, label = 'Validation Loss')\n",
    "#     plt.title(f'Fold {fold+1} Loss per Epoch')\n",
    "#     plt.xlabel('Epoch')\n",
    "#     plt.ylabel('Loss')\n",
    "#     plt.legend()\n",
    "#     plt.grid(True)\n",
    "#     plt.show()\n",
    "\n",
    "#     # final classification report for this fold\n",
    "#     model.eval()\n",
    "#     preds, targets = [], []\n",
    "#     with torch.no_grad():\n",
    "#         for xb, yb in val_loader:\n",
    "#             xb = xb.to(device)\n",
    "#             preds.extend(torch.argmax(model(xb), dim = 1).cpu().numpy())\n",
    "#             targets.extend(yb.numpy())\n",
    "\n",
    "#     print(f\"\\nFold {fold + 1} Classification Report:\")\n",
    "#     print(classification_report(targets, preds, target_names = le.classes_))\n"
   ]
  },
  {
   "cell_type": "code",
   "execution_count": 16,
   "id": "535611c1-943e-4ed4-b172-5d232c060004",
   "metadata": {},
   "outputs": [
    {
     "name": "stdout",
     "output_type": "stream",
     "text": [
      "\n",
      "Final Test Set Report:\n",
      "              precision    recall  f1-score   support\n",
      "\n",
      "    artifact       1.00      1.00      1.00         8\n",
      "      murmur       1.00      0.86      0.92         7\n",
      "      normal       0.86      1.00      0.92         6\n",
      "\n",
      "    accuracy                           0.95        21\n",
      "   macro avg       0.95      0.95      0.95        21\n",
      "weighted avg       0.96      0.95      0.95        21\n",
      "\n"
     ]
    }
   ],
   "source": [
    "# hyper-parameters\n",
    "n_epochs = 150 \n",
    "lr = 0.001\n",
    "\n",
    "# final training on all train data \n",
    "final_model = CNN1D().to(device)\n",
    "optimizer = torch.optim.Adam(final_model.parameters(), lr = lr)\n",
    "criterion = nn.CrossEntropyLoss()\n",
    "train_loader = DataLoader(train_dataset, batch_size = 16, shuffle = True, collate_fn = pad_collate)\n",
    "\n",
    "for epoch in range(n_epochs):\n",
    "    final_model.train()\n",
    "    for xb, yb in train_loader:\n",
    "        xb, yb = xb.to(device), yb.to(device)\n",
    "        optimizer.zero_grad()\n",
    "        loss = criterion(final_model(xb), yb)\n",
    "        loss.backward()\n",
    "        optimizer.step()\n",
    "\n",
    "# final evaluation on 20% test data \n",
    "final_model.eval()\n",
    "test_loader = DataLoader(test_dataset, batch_size = 16, collate_fn=pad_collate)\n",
    "test_preds, test_targets = [], []\n",
    "with torch.no_grad():\n",
    "    for xb, yb in test_loader:\n",
    "        xb = xb.to(device)\n",
    "        out = final_model(xb)\n",
    "        test_preds.extend(torch.argmax(out, dim=1).cpu().numpy())\n",
    "        test_targets.extend(yb.numpy())\n",
    "\n",
    "print(\"\\nFinal Test Set Report:\")\n",
    "print(classification_report(test_targets, test_preds, target_names = le.classes_))\n"
   ]
  },
  {
   "cell_type": "code",
   "execution_count": 17,
   "id": "598f2a2d-5f15-45a5-af7a-91e139bc1be8",
   "metadata": {},
   "outputs": [
    {
     "data": {
      "image/png": "[encoded data removed]",
      "text/plain": [
       "<Figure size 600x500 with 2 Axes>"
      ]
     },
     "metadata": {},
     "output_type": "display_data"
    }
   ],
   "source": [
    "cm = confusion_matrix(test_targets, test_preds)\n",
    "\n",
    "# plot confusion matrix\n",
    "plt.figure(figsize=(6, 5))\n",
    "sns.heatmap(cm, annot = True, fmt = \"d\", cmap = \"Blues\", \n",
    "            xticklabels = le.classes_, yticklabels = le.classes_)\n",
    "plt.xlabel(\"Predicted Label\")\n",
    "plt.ylabel(\"True Label\")\n",
    "plt.title(\"Confusion Matrix on Final Test Set\")\n",
    "plt.tight_layout()\n",
    "plt.show()"
   ]
  },
  {
   "cell_type": "code",
   "execution_count": 18,
   "id": "4e1c9d48-1be4-44d1-a76b-f79649f88ab4",
   "metadata": {},
   "outputs": [
    {
     "name": "stdout",
     "output_type": "stream",
     "text": [
      "Accuracy: 0.9523809523809523\n"
     ]
    }
   ],
   "source": [
    "report = classification_report(test_targets, test_preds, target_names=le.classes_, output_dict=True)\n",
    "accuracy = report['accuracy']\n",
    "print(\"Accuracy:\", accuracy)"
   ]
  },
  {
   "cell_type": "code",
   "execution_count": 19,
   "id": "2726013f-23b1-4e2c-bdd7-60e572221687",
   "metadata": {},
   "outputs": [],
   "source": [
    "f_log = 'results.txt'\n",
    "fid = open(f_log,'a')\n",
    "fid.write(f'lr: {lr}, seed: {seed}, test_accuracy: {accuracy}, n_epochs: {n_epochs} \\n')\n",
    "fid.close()"
   ]
  },
  {
   "cell_type": "code",
   "execution_count": null,
   "id": "0ba00b18-2e84-45ab-84f4-521cb34f78b6",
   "metadata": {},
   "outputs": [],
   "source": []
  },
  {
   "cell_type": "code",
   "execution_count": null,
   "id": "70c9b910-60a9-446e-b5e7-4866542ba38e",
   "metadata": {},
   "outputs": [],
   "source": []
  },
  {
   "cell_type": "code",
   "execution_count": null,
   "id": "dc50955e-97e2-4b99-b224-c1515898b94d",
   "metadata": {},
   "outputs": [],
   "source": []
  }
 ],
 "metadata": {
  "kernelspec": {
   "display_name": "Python 3 (ipykernel)",
   "language": "python",
   "name": "python3"
  },
  "language_info": {
   "codemirror_mode": {
    "name": "ipython",
    "version": 3
   },
   "file_extension": ".py",
   "mimetype": "text/x-python",
   "name": "python",
   "nbconvert_exporter": "python",
   "pygments_lexer": "ipython3",
   "version": "3.9.23"
  }
 },
 "nbformat": 4,
 "nbformat_minor": 5
}
