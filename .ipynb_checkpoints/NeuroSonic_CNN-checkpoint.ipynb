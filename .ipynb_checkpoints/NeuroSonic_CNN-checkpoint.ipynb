{
 "cells": [
  {
   "cell_type": "code",
   "execution_count": 1,
   "id": "bc04066d-7016-49a7-a948-da9a3afa96d8",
   "metadata": {},
   "outputs": [],
   "source": [
    "import torch\n",
    "import os\n",
    "from time import time\n",
    "import matplotlib\n",
    "import matplotlib.pyplot as plt\n",
    "import numpy as np\n",
    "import pandas as pd\n",
    "import librosa\n",
    "import librosa.display\n",
    "import scipy.stats\n",
    "from scipy.signal import firwin, lfilter\n",
    "from scipy.signal import cwt, morlet\n",
    "import pywt\n",
    "\n",
    "from sklearn.model_selection import train_test_split, cross_val_score, StratifiedKFold\n",
    "from sklearn.preprocessing import StandardScaler, LabelEncoder\n",
    "from sklearn.linear_model import LogisticRegression\n",
    "from sklearn.svm import SVC\n",
    "from sklearn.ensemble import RandomForestClassifier\n",
    "from sklearn.naive_bayes import GaussianNB\n",
    "from sklearn.neighbors import KNeighborsClassifier\n",
    "from sklearn.pipeline import make_pipeline\n",
    "from sklearn.metrics import make_scorer, f1_score, roc_auc_score\n",
    "from sklearn.metrics import classification_report\n",
    "from sklearn.utils.class_weight import compute_class_weight\n",
    "\n",
    "\n",
    "from imblearn.over_sampling import SMOTE\n",
    "from imblearn.pipeline import Pipeline as ImbPipeline\n",
    "smote = SMOTE(random_state=42)\n",
    "from glob import glob\n",
    "\n",
    "import warnings\n",
    "warnings.filterwarnings('ignore')\n",
    "\n",
    "from torch import nn\n",
    "from PIL import Image\n",
    "from torchvision import transforms\n",
    "import torch.nn as nn\n",
    "import torch.nn.functional as F\n",
    "from torch.utils.data import Dataset, DataLoader, random_split, Subset\n",
    "from torch.nn.utils.rnn import pad_sequence\n",
    "\n",
    "device = torch.device(\"cuda\" if torch.cuda.is_available() else \"cpu\")\n",
    "sample_rate = 44100\n",
    "downsample_factor = 10\n",
    "new_sample_rate = sample_rate // downsample_factor\n"
   ]
  },
  {
   "cell_type": "code",
   "execution_count": 2,
   "id": "8feb6540-a826-489d-ae16-92d51528c455",
   "metadata": {},
   "outputs": [],
   "source": [
    "data_dir = '/Users/fatimaahsan/Desktop/Projects/HeartBeat Classification/Fatima-assignment-main/Data'\n",
    "\n",
    "categories = ['artifact', 'murmur', 'normal']\n",
    "data_files = {}\n",
    "\n",
    "for category in categories:\n",
    "    path_pattern = os.path.join(data_dir, category, '*.wav')\n",
    "    data_files[category] = glob(path_pattern)"
   ]
  },
  {
   "cell_type": "code",
   "execution_count": 3,
   "id": "39df1523-aea5-4204-83a9-27fde6a8a223",
   "metadata": {},
   "outputs": [
    {
     "name": "stdout",
     "output_type": "stream",
     "text": [
      "Sample rate: 44100\n",
      "Audio length: 349958 samples\n"
     ]
    }
   ],
   "source": [
    "# Example: load one murmur file\n",
    "y, sr = librosa.load(data_files['murmur'][0], sr=None)\n",
    "\n",
    "print(f\"Sample rate: {sr}\")\n",
    "print(f\"Audio length: {len(y)} samples\")\n"
   ]
  },
  {
   "cell_type": "code",
   "execution_count": 4,
   "id": "731d558f-c9a4-45f2-b805-577d64663e9a",
   "metadata": {},
   "outputs": [],
   "source": [
    "# Load All Files \n",
    "def load_category_data(category_path, label):\n",
    "    files = glob(os.path.join(category_path, '*.wav'))\n",
    "    data = []\n",
    "    \n",
    "    for file_path in files:\n",
    "        y, sr = librosa.load(file_path, sr=None)\n",
    "        data.append({\n",
    "            'filename': os.path.basename(file_path),\n",
    "            'waveform': y,\n",
    "            'sample_rate': sr,\n",
    "            'label': label,\n",
    "            'length': len(y)\n",
    "        })\n",
    "    \n",
    "    return pd.DataFrame(data)\n",
    "\n",
    "# Create separate DataFrames\n",
    "artifact_df = load_category_data(os.path.join(data_dir, 'artifact'), 'artifact')\n",
    "murmur_df = load_category_data(os.path.join(data_dir, 'murmur'), 'murmur')\n",
    "normal_df = load_category_data(os.path.join(data_dir, 'normal'), 'normal')\n",
    "\n",
    "df = pd.concat([artifact_df, murmur_df, normal_df], ignore_index=True)"
   ]
  },
  {
   "cell_type": "code",
   "execution_count": 5,
   "id": "14b5e46c-7c50-4120-88e9-3440bc205fee",
   "metadata": {},
   "outputs": [
    {
     "name": "stdout",
     "output_type": "stream",
     "text": [
      "           filename                                           waveform  \\\n",
      "0  201106101955.wav  [-0.10809326, -0.0864563, -0.07608032, -0.0711...   \n",
      "1  201106211041.wav  [0.0, -3.0517578e-05, 6.1035156e-05, -6.103515...   \n",
      "2  201106190520.wav  [-0.0027770996, -0.002166748, -0.0024719238, -...   \n",
      "3  201106040933.wav  [-0.00015258789, -0.00015258789, 6.1035156e-05...   \n",
      "4  201105051017.wav  [-0.0025939941, -0.0060424805, -0.0065307617, ...   \n",
      "\n",
      "   sample_rate     label  length  \n",
      "0        44100  artifact  396900  \n",
      "1        44100  artifact  396900  \n",
      "2        44100  artifact  396900  \n",
      "3        44100  artifact  396900  \n",
      "4        44100  artifact  396900  \n"
     ]
    }
   ],
   "source": [
    "print(df.head())"
   ]
  },
  {
   "cell_type": "code",
   "execution_count": 6,
   "id": "af7e4e9e-47f2-4e1f-bdab-27fa7729d99d",
   "metadata": {},
   "outputs": [
    {
     "data": {
      "text/plain": [
       "count       105.000000\n",
       "mean     362535.542857\n",
       "std       54773.478537\n",
       "min       41294.000000\n",
       "25%      349958.000000\n",
       "50%      391787.000000\n",
       "75%      396900.000000\n",
       "max      396900.000000\n",
       "Name: length, dtype: float64"
      ]
     },
     "execution_count": 6,
     "metadata": {},
     "output_type": "execute_result"
    }
   ],
   "source": [
    "df[\"length\"].describe()"
   ]
  },
  {
   "cell_type": "code",
   "execution_count": 7,
   "id": "a9b19a37-523d-46ab-b8cd-0dddc4ecfd52",
   "metadata": {},
   "outputs": [
    {
     "data": {
      "text/html": [
       "<div>\n",
       "<style scoped>\n",
       "    .dataframe tbody tr th:only-of-type {\n",
       "        vertical-align: middle;\n",
       "    }\n",
       "\n",
       "    .dataframe tbody tr th {\n",
       "        vertical-align: top;\n",
       "    }\n",
       "\n",
       "    .dataframe thead th {\n",
       "        text-align: right;\n",
       "    }\n",
       "</style>\n",
       "<table border=\"1\" class=\"dataframe\">\n",
       "  <thead>\n",
       "    <tr style=\"text-align: right;\">\n",
       "      <th></th>\n",
       "      <th>filename</th>\n",
       "      <th>waveform</th>\n",
       "      <th>sample_rate</th>\n",
       "      <th>label</th>\n",
       "      <th>length</th>\n",
       "      <th>waveform_ds</th>\n",
       "      <th>waveform_ds_length</th>\n",
       "    </tr>\n",
       "  </thead>\n",
       "  <tbody>\n",
       "    <tr>\n",
       "      <th>0</th>\n",
       "      <td>201106101955.wav</td>\n",
       "      <td>[-0.10809326, -0.0864563, -0.07608032, -0.0711...</td>\n",
       "      <td>44100</td>\n",
       "      <td>artifact</td>\n",
       "      <td>396900</td>\n",
       "      <td>[1.204114705264373e-05, 0.00027516435723958524...</td>\n",
       "      <td>39690</td>\n",
       "    </tr>\n",
       "    <tr>\n",
       "      <th>1</th>\n",
       "      <td>201106211041.wav</td>\n",
       "      <td>[0.0, -3.0517578e-05, 6.1035156e-05, -6.103515...</td>\n",
       "      <td>44100</td>\n",
       "      <td>artifact</td>\n",
       "      <td>396900</td>\n",
       "      <td>[0.0, -7.390996078886923e-09, 2.27975057348969...</td>\n",
       "      <td>39690</td>\n",
       "    </tr>\n",
       "    <tr>\n",
       "      <th>2</th>\n",
       "      <td>201106190520.wav</td>\n",
       "      <td>[-0.0027770996, -0.002166748, -0.0024719238, -...</td>\n",
       "      <td>44100</td>\n",
       "      <td>artifact</td>\n",
       "      <td>396900</td>\n",
       "      <td>[3.093575329730603e-07, 5.924242666339884e-06,...</td>\n",
       "      <td>39690</td>\n",
       "    </tr>\n",
       "    <tr>\n",
       "      <th>3</th>\n",
       "      <td>201106040933.wav</td>\n",
       "      <td>[-0.00015258789, -0.00015258789, 6.1035156e-05...</td>\n",
       "      <td>44100</td>\n",
       "      <td>artifact</td>\n",
       "      <td>396900</td>\n",
       "      <td>[1.6997666646871442e-08, 8.263149119605007e-07...</td>\n",
       "      <td>39690</td>\n",
       "    </tr>\n",
       "    <tr>\n",
       "      <th>4</th>\n",
       "      <td>201105051017.wav</td>\n",
       "      <td>[-0.0025939941, -0.0060424805, -0.0065307617, ...</td>\n",
       "      <td>44100</td>\n",
       "      <td>artifact</td>\n",
       "      <td>396900</td>\n",
       "      <td>[2.889603329968145e-07, 4.559592961939156e-06,...</td>\n",
       "      <td>39690</td>\n",
       "    </tr>\n",
       "  </tbody>\n",
       "</table>\n",
       "</div>"
      ],
      "text/plain": [
       "           filename                                           waveform  \\\n",
       "0  201106101955.wav  [-0.10809326, -0.0864563, -0.07608032, -0.0711...   \n",
       "1  201106211041.wav  [0.0, -3.0517578e-05, 6.1035156e-05, -6.103515...   \n",
       "2  201106190520.wav  [-0.0027770996, -0.002166748, -0.0024719238, -...   \n",
       "3  201106040933.wav  [-0.00015258789, -0.00015258789, 6.1035156e-05...   \n",
       "4  201105051017.wav  [-0.0025939941, -0.0060424805, -0.0065307617, ...   \n",
       "\n",
       "   sample_rate     label  length  \\\n",
       "0        44100  artifact  396900   \n",
       "1        44100  artifact  396900   \n",
       "2        44100  artifact  396900   \n",
       "3        44100  artifact  396900   \n",
       "4        44100  artifact  396900   \n",
       "\n",
       "                                         waveform_ds  waveform_ds_length  \n",
       "0  [1.204114705264373e-05, 0.00027516435723958524...               39690  \n",
       "1  [0.0, -7.390996078886923e-09, 2.27975057348969...               39690  \n",
       "2  [3.093575329730603e-07, 5.924242666339884e-06,...               39690  \n",
       "3  [1.6997666646871442e-08, 8.263149119605007e-07...               39690  \n",
       "4  [2.889603329968145e-07, 4.559592961939156e-06,...               39690  "
      ]
     },
     "execution_count": 7,
     "metadata": {},
     "output_type": "execute_result"
    }
   ],
   "source": [
    "def anti_alias_and_downsample(waveform, orig_sr, factor=10, cutoff=4000):\n",
    "    nyq = 0.5 * orig_sr\n",
    "    norm_cutoff = cutoff / nyq\n",
    "    fir_coeff = firwin(numtaps=101, cutoff=norm_cutoff)\n",
    "    filtered = lfilter(fir_coeff, 1.0, waveform)\n",
    "    downsampled = filtered[::factor]\n",
    "    return downsampled\n",
    "\n",
    "df['waveform_ds'] = df.apply(lambda row: anti_alias_and_downsample(row['waveform'], row['sample_rate']), axis=1)\n",
    "df['waveform_ds_length'] = df['waveform_ds'].apply(len)\n",
    "df.head()"
   ]
  },
  {
   "cell_type": "code",
   "execution_count": 8,
   "id": "ffcb5f91-37b0-473a-9550-546be44abe59",
   "metadata": {},
   "outputs": [
    {
     "data": {
      "text/html": [
       "<div>\n",
       "<style scoped>\n",
       "    .dataframe tbody tr th:only-of-type {\n",
       "        vertical-align: middle;\n",
       "    }\n",
       "\n",
       "    .dataframe tbody tr th {\n",
       "        vertical-align: top;\n",
       "    }\n",
       "\n",
       "    .dataframe thead th {\n",
       "        text-align: right;\n",
       "    }\n",
       "</style>\n",
       "<table border=\"1\" class=\"dataframe\">\n",
       "  <thead>\n",
       "    <tr style=\"text-align: right;\">\n",
       "      <th></th>\n",
       "      <th>filename</th>\n",
       "      <th>waveform</th>\n",
       "      <th>sample_rate</th>\n",
       "      <th>label</th>\n",
       "      <th>length</th>\n",
       "      <th>waveform_ds</th>\n",
       "      <th>waveform_ds_length</th>\n",
       "      <th>wavelet_filtered</th>\n",
       "    </tr>\n",
       "  </thead>\n",
       "  <tbody>\n",
       "    <tr>\n",
       "      <th>0</th>\n",
       "      <td>201106101955.wav</td>\n",
       "      <td>[-0.10809326, -0.0864563, -0.07608032, -0.0711...</td>\n",
       "      <td>44100</td>\n",
       "      <td>artifact</td>\n",
       "      <td>396900</td>\n",
       "      <td>[1.204114705264373e-05, 0.00027516435723958524...</td>\n",
       "      <td>39690</td>\n",
       "      <td>[0.005352265876117403, 0.006820261924176837, 0...</td>\n",
       "    </tr>\n",
       "    <tr>\n",
       "      <th>1</th>\n",
       "      <td>201106211041.wav</td>\n",
       "      <td>[0.0, -3.0517578e-05, 6.1035156e-05, -6.103515...</td>\n",
       "      <td>44100</td>\n",
       "      <td>artifact</td>\n",
       "      <td>396900</td>\n",
       "      <td>[0.0, -7.390996078886923e-09, 2.27975057348969...</td>\n",
       "      <td>39690</td>\n",
       "      <td>[1.580041079410538e-08, 1.0763107025952957e-08...</td>\n",
       "    </tr>\n",
       "    <tr>\n",
       "      <th>2</th>\n",
       "      <td>201106190520.wav</td>\n",
       "      <td>[-0.0027770996, -0.002166748, -0.0024719238, -...</td>\n",
       "      <td>44100</td>\n",
       "      <td>artifact</td>\n",
       "      <td>396900</td>\n",
       "      <td>[3.093575329730603e-07, 5.924242666339884e-06,...</td>\n",
       "      <td>39690</td>\n",
       "      <td>[0.00021324472898782417, 0.0002442577928764830...</td>\n",
       "    </tr>\n",
       "    <tr>\n",
       "      <th>3</th>\n",
       "      <td>201106040933.wav</td>\n",
       "      <td>[-0.00015258789, -0.00015258789, 6.1035156e-05...</td>\n",
       "      <td>44100</td>\n",
       "      <td>artifact</td>\n",
       "      <td>396900</td>\n",
       "      <td>[1.6997666646871442e-08, 8.263149119605007e-07...</td>\n",
       "      <td>39690</td>\n",
       "      <td>[2.1018323335678697e-06, -1.8856846109026867e-...</td>\n",
       "    </tr>\n",
       "    <tr>\n",
       "      <th>4</th>\n",
       "      <td>201105051017.wav</td>\n",
       "      <td>[-0.0025939941, -0.0060424805, -0.0065307617, ...</td>\n",
       "      <td>44100</td>\n",
       "      <td>artifact</td>\n",
       "      <td>396900</td>\n",
       "      <td>[2.889603329968145e-07, 4.559592961939156e-06,...</td>\n",
       "      <td>39690</td>\n",
       "      <td>[-1.3051108675802936e-05, -6.16455470078074e-0...</td>\n",
       "    </tr>\n",
       "  </tbody>\n",
       "</table>\n",
       "</div>"
      ],
      "text/plain": [
       "           filename                                           waveform  \\\n",
       "0  201106101955.wav  [-0.10809326, -0.0864563, -0.07608032, -0.0711...   \n",
       "1  201106211041.wav  [0.0, -3.0517578e-05, 6.1035156e-05, -6.103515...   \n",
       "2  201106190520.wav  [-0.0027770996, -0.002166748, -0.0024719238, -...   \n",
       "3  201106040933.wav  [-0.00015258789, -0.00015258789, 6.1035156e-05...   \n",
       "4  201105051017.wav  [-0.0025939941, -0.0060424805, -0.0065307617, ...   \n",
       "\n",
       "   sample_rate     label  length  \\\n",
       "0        44100  artifact  396900   \n",
       "1        44100  artifact  396900   \n",
       "2        44100  artifact  396900   \n",
       "3        44100  artifact  396900   \n",
       "4        44100  artifact  396900   \n",
       "\n",
       "                                         waveform_ds  waveform_ds_length  \\\n",
       "0  [1.204114705264373e-05, 0.00027516435723958524...               39690   \n",
       "1  [0.0, -7.390996078886923e-09, 2.27975057348969...               39690   \n",
       "2  [3.093575329730603e-07, 5.924242666339884e-06,...               39690   \n",
       "3  [1.6997666646871442e-08, 8.263149119605007e-07...               39690   \n",
       "4  [2.889603329968145e-07, 4.559592961939156e-06,...               39690   \n",
       "\n",
       "                                    wavelet_filtered  \n",
       "0  [0.005352265876117403, 0.006820261924176837, 0...  \n",
       "1  [1.580041079410538e-08, 1.0763107025952957e-08...  \n",
       "2  [0.00021324472898782417, 0.0002442577928764830...  \n",
       "3  [2.1018323335678697e-06, -1.8856846109026867e-...  \n",
       "4  [-1.3051108675802936e-05, -6.16455470078074e-0...  "
      ]
     },
     "execution_count": 8,
     "metadata": {},
     "output_type": "execute_result"
    }
   ],
   "source": [
    "# ---- Step 2: Wavelet transform and denoising (>600 Hz removal) ----\n",
    "def wavelet_denoise(signal, sr, max_freq=600):\n",
    "    coeffs = pywt.wavedec(signal, 'db4', level=5)\n",
    "    freqs = [sr / (2 ** (i + 1)) for i in range(len(coeffs))]\n",
    "    for i, f in enumerate(freqs):\n",
    "        if f > max_freq:\n",
    "            coeffs[i] = np.zeros_like(coeffs[i])\n",
    "    recon = pywt.waverec(coeffs, 'db4')\n",
    "    return recon[:len(signal)]\n",
    "\n",
    "new_sr = int(df['sample_rate'].iloc[0] / 10)\n",
    "df['wavelet_filtered'] = df['waveform_ds'].apply(lambda x: wavelet_denoise(x, new_sr))\n",
    "df.head()"
   ]
  },
  {
   "cell_type": "code",
   "execution_count": 9,
   "id": "8c01c4b5-e224-4db8-a0ba-fdbfd90dfac9",
   "metadata": {},
   "outputs": [
    {
     "data": {
      "text/plain": [
       "39690"
      ]
     },
     "execution_count": 9,
     "metadata": {},
     "output_type": "execute_result"
    }
   ],
   "source": [
    "df['waveform_ds_length'].max()"
   ]
  },
  {
   "cell_type": "code",
   "execution_count": 10,
   "id": "f0c9932f-0772-4a86-8b8e-5da61a79d42c",
   "metadata": {},
   "outputs": [],
   "source": [
    "def pad_or_truncate(waveform, length):\n",
    "    if len(waveform) > length:\n",
    "        return waveform[:length]\n",
    "    elif len(waveform) < length:\n",
    "        return np.pad(waveform, (0, length - len(waveform)))\n",
    "    return waveform"
   ]
  },
  {
   "cell_type": "code",
   "execution_count": 11,
   "id": "33f667f6-cd4a-453f-bf43-caab205777ae",
   "metadata": {},
   "outputs": [],
   "source": [
    "# Step 1: Pad/truncate to fixed length\n",
    "MAX_LEN = 39690\n",
    "df['waveform_fixed'] = df['wavelet_filtered'].apply(lambda x: pad_or_truncate(x, MAX_LEN))\n"
   ]
  },
  {
   "cell_type": "code",
   "execution_count": 12,
   "id": "2199a3b6-9459-47d1-a150-694725670fe9",
   "metadata": {},
   "outputs": [],
   "source": [
    "# Normalize each waveform to zero mean and unit variance\n",
    "df['waveform'] = df['waveform_fixed'].apply(lambda x: (x - np.mean(x)) / (np.std(x) + 1e-6))\n"
   ]
  },
  {
   "cell_type": "code",
   "execution_count": 13,
   "id": "7783ad70-4f22-4527-87bd-f41c2625e608",
   "metadata": {},
   "outputs": [],
   "source": [
    "# Label encoding\n",
    "le = LabelEncoder()\n",
    "df['label_encoded'] = le.fit_transform(df['label'])\n"
   ]
  },
  {
   "cell_type": "code",
   "execution_count": 14,
   "id": "c842d71a-dd2a-4c91-9224-f5e8f5e2471a",
   "metadata": {},
   "outputs": [],
   "source": [
    "# Stratified train-test split (80/20)\n",
    "X = df['waveform'].tolist()\n",
    "y = df['label_encoded'].tolist()\n",
    "X_train, X_test, y_train, y_test = train_test_split(X, y, test_size=0.2, stratify=y, random_state=42)\n"
   ]
  },
  {
   "cell_type": "code",
   "execution_count": 15,
   "id": "1608ca14-e1bd-49d3-ace0-37194e907ed8",
   "metadata": {},
   "outputs": [],
   "source": [
    "# Generate CWT scalograms for CNN input\n",
    "def generate_cwt_scalogram(signal, widths=np.arange(1, 64)):\n",
    "    scalogram = np.abs(cwt(signal, morlet, widths))\n",
    "    return scalogram.astype(np.float32)\n"
   ]
  },
  {
   "cell_type": "code",
   "execution_count": 16,
   "id": "fbdd0e25-8b97-494c-88f8-2edb83c236bd",
   "metadata": {},
   "outputs": [],
   "source": [
    "X_train_cwt = [generate_cwt_scalogram(x) for x in X_train]\n",
    "X_test_cwt = [generate_cwt_scalogram(x) for x in X_test]\n",
    "\n",
    "# PyTorch Dataset class\n",
    "class CWTImageDataset(Dataset):\n",
    "    def __init__(self, scalograms, labels):\n",
    "        self.scalograms = [torch.tensor(img).unsqueeze(0) for img in scalograms]  # [1, H, W]\n",
    "        self.labels = torch.tensor(labels, dtype=torch.long)\n",
    "\n",
    "    def __len__(self):\n",
    "        return len(self.labels)\n",
    "\n",
    "    def __getitem__(self, idx):\n",
    "        return self.scalograms[idx], self.labels[idx]"
   ]
  },
  {
   "cell_type": "code",
   "execution_count": 17,
   "id": "f2062f8b-bf7c-445a-88bc-4429a0e7b729",
   "metadata": {},
   "outputs": [],
   "source": [
    "\n",
    "train_dataset = CWTImageDataset(X_train_cwt, y_train)\n",
    "test_dataset = CWTImageDataset(X_test_cwt, y_test)\n",
    "\n",
    "# 2D CNN model\n",
    "class CNN2D(nn.Module):\n",
    "    def __init__(self, num_classes=3):\n",
    "        super(CNN2D, self).__init__()\n",
    "        self.conv1 = nn.Conv2d(1, 16, kernel_size=3, padding=1)\n",
    "        self.conv2 = nn.Conv2d(16, 32, kernel_size=3, padding=1)\n",
    "        self.pool = nn.MaxPool2d(2)\n",
    "        self.adaptive = nn.AdaptiveAvgPool2d((16, 16))  # ⬅️ Add this\n",
    "        self.fc1 = nn.Linear(32 * 16 * 16, 64)\n",
    "        self.fc2 = nn.Linear(64, num_classes)\n",
    "\n",
    "    def forward(self, x):\n",
    "        x = self.pool(F.relu(self.conv1(x)))\n",
    "        x = self.pool(F.relu(self.conv2(x)))\n",
    "        x = self.adaptive(x)  # ⬅️ Force output to 32x16x16\n",
    "        x = x.view(x.size(0), -1)\n",
    "        x = F.relu(self.fc1(x))\n",
    "        return self.fc2(x)\n"
   ]
  },
  {
   "cell_type": "code",
   "execution_count": 18,
   "id": "5a6637a5-9d98-44b4-b437-9b6a3a29c694",
   "metadata": {},
   "outputs": [],
   "source": [
    "# Optional: collate function if needed for dynamic inputs\n",
    "def pad_collate(batch):\n",
    "    images, labels = zip(*batch)\n",
    "    images = torch.stack(images)\n",
    "    return images, torch.tensor(labels)"
   ]
  },
  {
   "cell_type": "code",
   "execution_count": 19,
   "id": "cda238b6-e8b2-4695-9a9a-df93cbc1c824",
   "metadata": {},
   "outputs": [],
   "source": [
    "# Training config\n",
    "n_epochs = 100\n"
   ]
  },
  {
   "cell_type": "code",
   "execution_count": 20,
   "id": "9eff214b-59d0-443c-8a5e-5e70b191ff2e",
   "metadata": {},
   "outputs": [
    {
     "name": "stdout",
     "output_type": "stream",
     "text": [
      "0\n",
      "1\n",
      "2\n",
      "3\n",
      "4\n",
      "5\n",
      "6\n",
      "7\n",
      "8\n",
      "9\n"
     ]
    },
    {
     "data": {
      "image/png": "[encoded data removed]",
      "text/plain": [
       "<Figure size 640x480 with 1 Axes>"
      ]
     },
     "metadata": {},
     "output_type": "display_data"
    },
    {
     "name": "stdout",
     "output_type": "stream",
     "text": [
      "0\n",
      "1\n",
      "2\n",
      "3\n",
      "4\n",
      "5\n",
      "6\n",
      "7\n",
      "8\n",
      "9\n"
     ]
    },
    {
     "data": {
      "image/png": "[encoded data removed]",
      "text/plain": [
       "<Figure size 640x480 with 1 Axes>"
      ]
     },
     "metadata": {},
     "output_type": "display_data"
    },
    {
     "name": "stdout",
     "output_type": "stream",
     "text": [
      "0\n",
      "1\n",
      "2\n",
      "3\n",
      "4\n",
      "5\n",
      "6\n",
      "7\n",
      "8\n",
      "9\n"
     ]
    },
    {
     "data": {
      "image/png": "[encoded data removed]",
      "text/plain": [
       "<Figure size 640x480 with 1 Axes>"
      ]
     },
     "metadata": {},
     "output_type": "display_data"
    },
    {
     "name": "stdout",
     "output_type": "stream",
     "text": [
      "0\n",
      "1\n",
      "2\n",
      "3\n",
      "4\n",
      "5\n",
      "6\n",
      "7\n"
     ]
    },
    {
     "name": "stderr",
     "output_type": "stream",
     "text": [
      "\n",
      "KeyboardInterrupt\n",
      "\n"
     ]
    }
   ],
   "source": [
    "# K-Fold Cross Validation\n",
    "kfold = StratifiedKFold(n_splits=5, shuffle=True, random_state=42)\n",
    "all_fold_preds, all_fold_targets = [], []\n",
    "\n",
    "for fold, (train_idx, val_idx) in enumerate(kfold.split(X_train_cwt, y_train)):\n",
    "    model = CNN2D().to(device)\n",
    "    optimizer = torch.optim.Adam(model.parameters(), lr=0.001)\n",
    "    class_weights = compute_class_weight('balanced', classes=np.unique(y_train), y=np.array(y_train)[train_idx])\n",
    "    criterion = nn.CrossEntropyLoss(weight=torch.tensor(class_weights, dtype=torch.float32).to(device))\n",
    "\n",
    "    train_sub = Subset(train_dataset, train_idx)\n",
    "    val_sub = Subset(train_dataset, val_idx)\n",
    "    train_loader = DataLoader(train_sub, batch_size=16, shuffle=True, collate_fn=pad_collate)\n",
    "    val_loader = DataLoader(val_sub, batch_size=16, collate_fn=pad_collate)\n",
    "\n",
    "    train_losses, val_losses = [], []\n",
    "\n",
    "    for epoch in range(n_epochs):\n",
    "        print(epoch)\n",
    "        model.train()\n",
    "        total_loss = 0\n",
    "        for xb, yb in train_loader:\n",
    "            xb, yb = xb.to(device), yb.to(device)\n",
    "            optimizer.zero_grad()\n",
    "            loss = criterion(model(xb), yb)\n",
    "            loss.backward()\n",
    "            optimizer.step()\n",
    "            total_loss += loss.item() * xb.size(0)\n",
    "        train_losses.append(total_loss / len(train_loader.dataset))\n",
    "\n",
    "        model.eval()\n",
    "        total_val_loss = 0\n",
    "        with torch.no_grad():\n",
    "            for xb, yb in val_loader:\n",
    "                xb, yb = xb.to(device), yb.to(device)\n",
    "                loss = criterion(model(xb), yb)\n",
    "                total_val_loss += loss.item() * xb.size(0)\n",
    "        val_losses.append(total_val_loss / len(val_loader.dataset))\n",
    "\n",
    "    # Plot losses\n",
    "    plt.plot(train_losses, label='Train Loss')\n",
    "    plt.plot(val_losses, label='Validation Loss')\n",
    "    plt.title(f'Fold {fold+1} Loss Curve')\n",
    "    plt.xlabel('Epoch')\n",
    "    plt.ylabel('Loss')\n",
    "    plt.legend()\n",
    "    plt.grid(True)\n",
    "    plt.show()\n",
    "\n",
    "    # Evaluate\n",
    "    model.eval()\n",
    "    preds, targets = [], []\n",
    "    with torch.no_grad():\n",
    "        for xb, yb in val_loader:\n",
    "            xb = xb.to(device)\n",
    "            preds.extend(torch.argmax(model(xb), dim=1).cpu().numpy())\n",
    "            targets.extend(yb.numpy())\n",
    "    all_fold_preds.extend(preds)\n",
    "    all_fold_targets.extend(targets)\n",
    "\n",
    "# Cross-validation report\n",
    "print(\"\\nK-Fold Cross-Validation Classification Report:\")\n",
    "print(classification_report(all_fold_targets, all_fold_preds, target_names=le.classes_))\n",
    "\n"
   ]
  },
  {
   "cell_type": "code",
   "execution_count": null,
   "id": "bb8ebc05-7c36-4c82-9728-86e7420245b1",
   "metadata": {},
   "outputs": [],
   "source": [
    "# Final training on all training data\n",
    "final_model = CNN2D().to(device)\n",
    "optimizer = torch.optim.Adam(final_model.parameters(), lr=0.001)\n",
    "class_weights = compute_class_weight('balanced', classes=np.unique(y_train), y=y_train)\n",
    "criterion = nn.CrossEntropyLoss(weight=torch.tensor(class_weights, dtype=torch.float32).to(device))\n",
    "train_loader = DataLoader(train_dataset, batch_size=16, shuffle=True, collate_fn=pad_collate)\n",
    "\n",
    "for epoch in range(n_epochs):\n",
    "    final_model.train()\n",
    "    for xb, yb in train_loader:\n",
    "        xb, yb = xb.to(device), yb.to(device)\n",
    "        optimizer.zero_grad()\n",
    "        loss = criterion(final_model(xb), yb)\n",
    "        loss.backward()\n",
    "        optimizer.step()\n",
    "\n"
   ]
  },
  {
   "cell_type": "code",
   "execution_count": null,
   "id": "ae680185-4045-4eec-9629-67dfbe943f82",
   "metadata": {},
   "outputs": [],
   "source": [
    "# Evaluate on 20% test set\n",
    "final_model.eval()\n",
    "test_loader = DataLoader(test_dataset, batch_size=16, collate_fn=pad_collate)\n",
    "test_preds, test_targets = [], []\n",
    "with torch.no_grad():\n",
    "    for xb, yb in test_loader:\n",
    "        xb = xb.to(device)\n",
    "        out = final_model(xb)\n",
    "        test_preds.extend(torch.argmax(out, dim=1).cpu().numpy())\n",
    "        test_targets.extend(yb.numpy())\n",
    "\n",
    "print(\"\\nFinal Test Set Classification Report:\")\n",
    "print(classification_report(test_targets, test_preds, target_names=le.classes_))\n"
   ]
  },
  {
   "cell_type": "code",
   "execution_count": null,
   "id": "cc6cd5ad-4688-4c56-8a0b-9957d81c940b",
   "metadata": {},
   "outputs": [],
   "source": []
  },
  {
   "cell_type": "code",
   "execution_count": null,
   "id": "8ca1b48f-047f-4ee1-ac5f-8149ca35cd45",
   "metadata": {},
   "outputs": [],
   "source": []
  },
  {
   "cell_type": "code",
   "execution_count": null,
   "id": "0815dc00-862d-4bbf-a867-74ced682ec62",
   "metadata": {},
   "outputs": [],
   "source": [
    "wowowo"
   ]
  },
  {
   "cell_type": "code",
   "execution_count": null,
   "id": "b3b5cebf-abf3-472e-a4ae-90115ada9bc3",
   "metadata": {},
   "outputs": [],
   "source": []
  },
  {
   "cell_type": "code",
   "execution_count": null,
   "id": "deaaa804-7a7a-4585-b787-a63b68ac8850",
   "metadata": {},
   "outputs": [],
   "source": []
  },
  {
   "cell_type": "code",
   "execution_count": null,
   "id": "159792f9-4c4a-43ea-befa-5a999d549cb6",
   "metadata": {},
   "outputs": [],
   "source": []
  },
  {
   "cell_type": "code",
   "execution_count": null,
   "id": "580c105d-2746-4926-abe5-afb6c60495f2",
   "metadata": {},
   "outputs": [],
   "source": []
  },
  {
   "cell_type": "code",
   "execution_count": null,
   "id": "ae3f277e-e56c-433f-81d5-fc9ad7cb1877",
   "metadata": {},
   "outputs": [],
   "source": []
  },
  {
   "cell_type": "code",
   "execution_count": null,
   "id": "1ee2e96f-1f40-41cb-b0c6-e45a1b1de624",
   "metadata": {},
   "outputs": [],
   "source": []
  },
  {
   "cell_type": "code",
   "execution_count": null,
   "id": "dc50955e-97e2-4b99-b224-c1515898b94d",
   "metadata": {},
   "outputs": [],
   "source": []
  }
 ],
 "metadata": {
  "kernelspec": {
   "display_name": "Python 3 (ipykernel)",
   "language": "python",
   "name": "python3"
  },
  "language_info": {
   "codemirror_mode": {
    "name": "ipython",
    "version": 3
   },
   "file_extension": ".py",
   "mimetype": "text/x-python",
   "name": "python",
   "nbconvert_exporter": "python",
   "pygments_lexer": "ipython3",
   "version": "3.9.23"
  }
 },
 "nbformat": 4,
 "nbformat_minor": 5
}
